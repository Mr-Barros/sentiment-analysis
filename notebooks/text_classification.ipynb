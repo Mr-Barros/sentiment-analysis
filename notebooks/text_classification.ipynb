{
 "cells": [
  {
   "cell_type": "code",
   "execution_count": 3,
   "id": "b8f23bdb",
   "metadata": {},
   "outputs": [],
   "source": [
    "import pandas as pd\n",
    "import numpy as np\n",
    "import matplotlib.pyplot as plt\n",
    "\n",
    "import tensorflow as tf\n",
    "import tensorflow_hub as hub"
   ]
  },
  {
   "cell_type": "code",
   "execution_count": 4,
   "id": "2a537d1b",
   "metadata": {},
   "outputs": [
    {
     "name": "stdout",
     "output_type": "stream",
     "text": [
      "(37130, 3)\n"
     ]
    }
   ],
   "source": [
    "train_path = '../data/train.csv'\n",
    "df = pd.read_csv(train_path)\n",
    "print(df.shape)"
   ]
  },
  {
   "cell_type": "code",
   "execution_count": 5,
   "id": "e2cc0d62",
   "metadata": {},
   "outputs": [
    {
     "name": "stdout",
     "output_type": "stream",
     "text": [
      "(500, 3)\n"
     ]
    }
   ],
   "source": [
    "df.dropna(inplace=True)\n",
    "df = df.head(500)\n",
    "print(df.shape)"
   ]
  },
  {
   "cell_type": "code",
   "execution_count": 6,
   "id": "eb3734cc",
   "metadata": {},
   "outputs": [
    {
     "data": {
      "application/vnd.microsoft.datawrangler.viewer.v0+json": {
       "columns": [
        {
         "name": "index",
         "rawType": "int64",
         "type": "integer"
        },
        {
         "name": "id",
         "rawType": "int64",
         "type": "integer"
        },
        {
         "name": "statement",
         "rawType": "object",
         "type": "string"
        },
        {
         "name": "status",
         "rawType": "object",
         "type": "string"
        }
       ],
       "ref": "27c99baf-94e1-4237-928e-f24c22d40af0",
       "rows": [
        [
         "0",
         "47647",
         "life doesn’t feel worth it that’s kind of it? \n\ni’ve made a lot of discoveries about myself in the last few years and i’ve also had a lot of unfortunate things pop up, and while i don’t actively want to die, i can say with certainty that life almost never feels worth it anymore. i wish i could go back to when i was depressed but still had structure to fall back on to and things to be excited about.. to when i was just a kid and didn’t know/think so much. now i just can’t seem to get and keep a hold on anything. i don’t want anything for myself, not anything that’s within reach at least. i feel so alone. \n\nlife is so tedious and adulthood depression is a different beast.",
         "Depression"
        ],
        [
         "1",
         "21689",
         "This life sucks and if it were for my religious belief that suicide sends you to hell I would have been long gone. Even though I am probably going there either way. My whole existence is not fair not only am I suffering in this life I got to suffer in the after life. Fuck everything. Sorry guys I have been hurting and just need to vent. Sorry for existing. Fuck this life",
         "Depression"
        ],
        [
         "2",
         "28246",
         "its been 9 months now for our marriage and she managed to sleep with me with lights off as i cant even think of sleeping with lights on. now she is pregnant and its 8 months. now she wants to keep lights on in the room which i cant sleep with lights. what should i do ? is that behavior of my wife normal ?",
         "Stress"
        ],
        [
         "3",
         "22363",
         "I do not feel particularly sad or anxious or anything. I just feel like I am not worth much. I do not feel like I need to live, I do not feel I have some large purpose. I feel like I have done everything I need to do and that if I were dead, it would not matter. Like I feel more or less fine, just I feel at the same time, how am I worth ANYTHING?I even got prescribed an antidepressant lately that I do not even want to take and have not been taking, a large part of me does not think I want to feel better.I have no plan, nor am I going to take any action to kill myself, but this is just how I have been feeling. I do not Feel Extremely Depressed, but I still do not think I deserve to live.",
         "Depression"
        ],
        [
         "4",
         "13362",
         "I am taking Venlafaxine. it is an SSRI. does not cure my depression but it certainly takes the edge off. Are you on medication? Are you on medication?",
         "Depression"
        ]
       ],
       "shape": {
        "columns": 3,
        "rows": 5
       }
      },
      "text/html": [
       "<div>\n",
       "<style scoped>\n",
       "    .dataframe tbody tr th:only-of-type {\n",
       "        vertical-align: middle;\n",
       "    }\n",
       "\n",
       "    .dataframe tbody tr th {\n",
       "        vertical-align: top;\n",
       "    }\n",
       "\n",
       "    .dataframe thead th {\n",
       "        text-align: right;\n",
       "    }\n",
       "</style>\n",
       "<table border=\"1\" class=\"dataframe\">\n",
       "  <thead>\n",
       "    <tr style=\"text-align: right;\">\n",
       "      <th></th>\n",
       "      <th>id</th>\n",
       "      <th>statement</th>\n",
       "      <th>status</th>\n",
       "    </tr>\n",
       "  </thead>\n",
       "  <tbody>\n",
       "    <tr>\n",
       "      <th>0</th>\n",
       "      <td>47647</td>\n",
       "      <td>life doesn’t feel worth it that’s kind of it? ...</td>\n",
       "      <td>Depression</td>\n",
       "    </tr>\n",
       "    <tr>\n",
       "      <th>1</th>\n",
       "      <td>21689</td>\n",
       "      <td>This life sucks and if it were for my religiou...</td>\n",
       "      <td>Depression</td>\n",
       "    </tr>\n",
       "    <tr>\n",
       "      <th>2</th>\n",
       "      <td>28246</td>\n",
       "      <td>its been 9 months now for our marriage and she...</td>\n",
       "      <td>Stress</td>\n",
       "    </tr>\n",
       "    <tr>\n",
       "      <th>3</th>\n",
       "      <td>22363</td>\n",
       "      <td>I do not feel particularly sad or anxious or a...</td>\n",
       "      <td>Depression</td>\n",
       "    </tr>\n",
       "    <tr>\n",
       "      <th>4</th>\n",
       "      <td>13362</td>\n",
       "      <td>I am taking Venlafaxine. it is an SSRI. does n...</td>\n",
       "      <td>Depression</td>\n",
       "    </tr>\n",
       "  </tbody>\n",
       "</table>\n",
       "</div>"
      ],
      "text/plain": [
       "      id                                          statement      status\n",
       "0  47647  life doesn’t feel worth it that’s kind of it? ...  Depression\n",
       "1  21689  This life sucks and if it were for my religiou...  Depression\n",
       "2  28246  its been 9 months now for our marriage and she...      Stress\n",
       "3  22363  I do not feel particularly sad or anxious or a...  Depression\n",
       "4  13362  I am taking Venlafaxine. it is an SSRI. does n...  Depression"
      ]
     },
     "execution_count": 6,
     "metadata": {},
     "output_type": "execute_result"
    }
   ],
   "source": [
    "df.head()"
   ]
  }
 ],
 "metadata": {
  "kernelspec": {
   "display_name": ".venv",
   "language": "python",
   "name": "python3"
  },
  "language_info": {
   "codemirror_mode": {
    "name": "ipython",
    "version": 3
   },
   "file_extension": ".py",
   "mimetype": "text/x-python",
   "name": "python",
   "nbconvert_exporter": "python",
   "pygments_lexer": "ipython3",
   "version": "3.11.7"
  }
 },
 "nbformat": 4,
 "nbformat_minor": 5
}
