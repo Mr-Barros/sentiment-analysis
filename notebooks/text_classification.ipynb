{
 "cells": [
  {
   "cell_type": "code",
   "execution_count": 29,
   "id": "24dd7181",
   "metadata": {},
   "outputs": [],
   "source": [
    "import pandas as pd\n",
    "import re\n",
    "from sklearn.feature_extraction.text import TfidfVectorizer\n",
    "from sklearn.preprocessing import LabelEncoder\n",
    "from sklearn.linear_model import LogisticRegression\n",
    "from sklearn.metrics import accuracy_score\n",
    "from sklearn.model_selection import train_test_split\n",
    "from sklearn.metrics import accuracy_score"
   ]
  },
  {
   "cell_type": "code",
   "execution_count": 30,
   "id": "082bb0e7",
   "metadata": {},
   "outputs": [
    {
     "name": "stdout",
     "output_type": "stream",
     "text": [
      "Training data shape: (37130, 3)\n",
      "Test data shape: (15913, 2)\n",
      "\n",
      "First 5 rows of training data:\n",
      "      id                                          statement      status\n",
      "0  47647  life doesn’t feel worth it that’s kind of it? ...  Depression\n",
      "1  21689  This life sucks and if it were for my religiou...  Depression\n",
      "2  28246  its been 9 months now for our marriage and she...      Stress\n",
      "3  22363  I do not feel particularly sad or anxious or a...  Depression\n",
      "4  13362  I am taking Venlafaxine. it is an SSRI. does n...  Depression\n"
     ]
    }
   ],
   "source": [
    "# Load the datasets\n",
    "try:\n",
    "    train_df = pd.read_csv('../data/train.csv')\n",
    "    test_df = pd.read_csv('../data/test.csv')\n",
    "except FileNotFoundError:\n",
    "    print(\"Make sure 'train.csv' and 'test.csv' are in the same directory.\")\n",
    "    exit()\n",
    "\n",
    "\n",
    "print(\"Training data shape:\", train_df.shape)\n",
    "print(\"Test data shape:\", test_df.shape)\n",
    "print(\"\\nFirst 5 rows of training data:\")\n",
    "print(train_df.head())"
   ]
  },
  {
   "cell_type": "code",
   "execution_count": 31,
   "id": "9f72bef0",
   "metadata": {},
   "outputs": [
    {
     "name": "stderr",
     "output_type": "stream",
     "text": [
      "/var/folders/cx/vk1h7yv172scwfh5zzq572pc0000gp/T/ipykernel_38101/2167034470.py:1: FutureWarning: A value is trying to be set on a copy of a DataFrame or Series through chained assignment using an inplace method.\n",
      "The behavior will change in pandas 3.0. This inplace method will never work because the intermediate object on which we are setting values always behaves as a copy.\n",
      "\n",
      "For example, when doing 'df[col].method(value, inplace=True)', try using 'df.method({col: value}, inplace=True)' or df[col] = df[col].method(value) instead, to perform the operation inplace on the original object.\n",
      "\n",
      "\n",
      "  train_df['statement'].fillna('', inplace=True)\n",
      "/var/folders/cx/vk1h7yv172scwfh5zzq572pc0000gp/T/ipykernel_38101/2167034470.py:2: FutureWarning: A value is trying to be set on a copy of a DataFrame or Series through chained assignment using an inplace method.\n",
      "The behavior will change in pandas 3.0. This inplace method will never work because the intermediate object on which we are setting values always behaves as a copy.\n",
      "\n",
      "For example, when doing 'df[col].method(value, inplace=True)', try using 'df.method({col: value}, inplace=True)' or df[col] = df[col].method(value) instead, to perform the operation inplace on the original object.\n",
      "\n",
      "\n",
      "  test_df['statement'].fillna('', inplace=True)\n"
     ]
    },
    {
     "name": "stdout",
     "output_type": "stream",
     "text": [
      "\n",
      "Example of cleaned text:\n",
      "Original: I (17M) have come to the realisation that My dad is a prick. Ever since i was little he never really cared about me, he saw me as more of an extension of himself. it is always been about getting a good carreer and getting an education. My granddad is the same. Until age 12 I thought that taking an extra education after school was a law. I legit thought that I had to get into a Gymnasium or something like wise, by law.When I was about 6 years old, I could not sleep one night. So as a normal kid, I went into My parents room and said: \"I cannot sleep\" My mom was ready to tuck me in, but My dad said: \"You say that all the time, and you always fall asleep anyway.\" To this day that memory is still crystal clear in my mind. My granddad calls me fat everytime we visit him, and always ask if I know what gymnasium I am going to next year, or what job I want in the future.Time and time again my dad's side of the family has showed to me that they cannot be trusted and are not worthy of my time. However there are a couple people from the family that I quite enjoy sending time with.My question is: \"How do you cut ties with a parent and their side of the family, when you still live under their roof and they own you financielly and yet keeping in touch with a select few People?Tl;dr: My dad and most of his side of the family are pricks, how is a good way to cut ties with them while being underage? Cutting ties\n",
      "Cleaned:  i m have come to the realisation that my dad is a prick ever since i was little he never really cared about me he saw me as more of an extension of himself it is always been about getting a good carreer and getting an education my granddad is the same until age i thought that taking an extra education after school was a law i legit thought that i had to get into a gymnasium or something like wise by lawwhen i was about years old i could not sleep one night so as a normal kid i went into my parents room and said i cannot sleep my mom was ready to tuck me in but my dad said you say that all the time and you always fall asleep anyway to this day that memory is still crystal clear in my mind my granddad calls me fat everytime we visit him and always ask if i know what gymnasium i am going to next year or what job i want in the futuretime and time again my dads side of the family has showed to me that they cannot be trusted and are not worthy of my time however there are a couple people from the family that i quite enjoy sending time withmy question is how do you cut ties with a parent and their side of the family when you still live under their roof and they own you financielly and yet keeping in touch with a select few peopletldr my dad and most of his side of the family are pricks how is a good way to cut ties with them while being underage cutting ties\n"
     ]
    }
   ],
   "source": [
    "train_df['statement'].fillna('', inplace=True)\n",
    "test_df['statement'].fillna('', inplace=True)\n",
    "\n",
    "def clean_text(text):\n",
    "    text = text.lower()\n",
    "    text = re.sub(r'https?://\\S+|www\\.\\S+', '', text)\n",
    "    text = re.sub(r'[^a-z\\s]', '', text)\n",
    "    text = re.sub(r'\\s+', ' ', text).strip()\n",
    "    return text\n",
    "\n",
    "train_df['cleaned_statement'] = train_df['statement'].apply(clean_text)\n",
    "test_df['cleaned_statement'] = test_df['statement'].apply(clean_text)\n",
    "\n",
    "print(\"\\nExample of cleaned text:\")\n",
    "print(\"Original:\", train_df['statement'].iloc[5])\n",
    "print(\"Cleaned: \", train_df['cleaned_statement'].iloc[5])\n",
    "\n",
    "label_encoder = LabelEncoder()\n",
    "train_df['status_encoded'] = label_encoder.fit_transform(train_df['status'])"
   ]
  },
  {
   "cell_type": "code",
   "execution_count": 32,
   "id": "5ee10afe",
   "metadata": {},
   "outputs": [
    {
     "name": "stdout",
     "output_type": "stream",
     "text": [
      "\n",
      "Shape of TF-IDF matrices:\n",
      "Training features: (37130, 20000)\n",
      "Test features: (15913, 20000)\n"
     ]
    }
   ],
   "source": [
    "tfidf_vectorizer = TfidfVectorizer(max_features=20000, stop_words='english')\n",
    "\n",
    "X_train = tfidf_vectorizer.fit_transform(train_df['cleaned_statement'])\n",
    "\n",
    "X_test = tfidf_vectorizer.transform(test_df['cleaned_statement'])\n",
    "\n",
    "y_train = train_df['status_encoded']\n",
    "\n",
    "print(\"\\nShape of TF-IDF matrices:\")\n",
    "print(\"Training features:\", X_train.shape)\n",
    "print(\"Test features:\", X_test.shape)"
   ]
  },
  {
   "cell_type": "code",
   "execution_count": 33,
   "id": "991bd47d",
   "metadata": {},
   "outputs": [
    {
     "name": "stdout",
     "output_type": "stream",
     "text": [
      "--- Model Evaluation ---\n",
      "New training set size: 29704\n",
      "Validation set size: 7426\n"
     ]
    }
   ],
   "source": [
    "X_train_split, X_val, y_train_split, y_val = train_test_split(\n",
    "    X_train, y_train,\n",
    "    test_size=0.2,\n",
    "    random_state=42,\n",
    "    stratify=y_train\n",
    ")\n",
    "\n",
    "print(\"--- Model Evaluation ---\")\n",
    "print(f\"New training set size: {X_train_split.shape[0]}\")\n",
    "print(f\"Validation set size: {X_val.shape[0]}\")"
   ]
  },
  {
   "cell_type": "code",
   "execution_count": 34,
   "id": "bca120f5",
   "metadata": {},
   "outputs": [
    {
     "name": "stdout",
     "output_type": "stream",
     "text": [
      "\n",
      "Training the model...\n",
      "Model training complete! ✅\n",
      "Making predictions on the validation set...\n",
      "Validation Accuracy: 0.7482\n"
     ]
    }
   ],
   "source": [
    "print(\"\\nTraining the model...\")\n",
    "model = LogisticRegression(max_iter=1000, random_state=42)\n",
    "model.fit(X_train_split, y_train_split)\n",
    "print(\"Model training complete! ✅\")\n",
    "\n",
    "print(\"Making predictions on the validation set...\")\n",
    "y_pred_val = model.predict(X_val)\n",
    "\n",
    "accuracy = accuracy_score(y_val, y_pred_val)\n",
    "print(f\"Validation Accuracy: {accuracy:.4f}\")"
   ]
  },
  {
   "cell_type": "code",
   "execution_count": 35,
   "id": "032749d1",
   "metadata": {},
   "outputs": [
    {
     "name": "stdout",
     "output_type": "stream",
     "text": [
      "\n",
      "Training the model...\n",
      "Model training complete! ✅\n"
     ]
    }
   ],
   "source": [
    "print(\"\\nTraining the model...\")\n",
    "model = LogisticRegression(max_iter=1000, random_state=42)\n",
    "model.fit(X_train, y_train)\n",
    "print(\"Model training complete! ✅\")"
   ]
  },
  {
   "cell_type": "code",
   "execution_count": 36,
   "id": "753cc12f",
   "metadata": {},
   "outputs": [
    {
     "name": "stdout",
     "output_type": "stream",
     "text": [
      "\n",
      "Making predictions on the test set...\n",
      "\n",
      "Submission file 'submission.csv' created successfully! 🎉\n",
      "\n",
      "First 5 rows of submission file:\n",
      "      id      status\n",
      "0  10203    Suicidal\n",
      "1  51476      Stress\n",
      "2  31460      Normal\n",
      "3  33980  Depression\n",
      "4   4200      Normal\n"
     ]
    }
   ],
   "source": [
    "print(\"\\nMaking predictions on the test set...\")\n",
    "predictions_encoded = model.predict(X_test)\n",
    "\n",
    "predictions = label_encoder.inverse_transform(predictions_encoded)\n",
    "\n",
    "submission_df = pd.DataFrame({\n",
    "    'id': test_df['id'],\n",
    "    'status': predictions\n",
    "})\n",
    "\n",
    "submission_df.to_csv('../data/submission.csv', index=False)\n",
    "\n",
    "print(\"\\nSubmission file 'submission.csv' created successfully! 🎉\")\n",
    "print(\"\\nFirst 5 rows of submission file:\")\n",
    "print(submission_df.head())"
   ]
  }
 ],
 "metadata": {
  "kernelspec": {
   "display_name": ".venv",
   "language": "python",
   "name": "python3"
  },
  "language_info": {
   "codemirror_mode": {
    "name": "ipython",
    "version": 3
   },
   "file_extension": ".py",
   "mimetype": "text/x-python",
   "name": "python",
   "nbconvert_exporter": "python",
   "pygments_lexer": "ipython3",
   "version": "3.11.7"
  }
 },
 "nbformat": 4,
 "nbformat_minor": 5
}
